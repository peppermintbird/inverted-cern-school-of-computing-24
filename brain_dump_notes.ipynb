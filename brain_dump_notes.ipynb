{
  "nbformat": 4,
  "nbformat_minor": 0,
  "metadata": {
    "colab": {
      "provenance": [],
      "authorship_tag": "ABX9TyOTF6qWEcs++/UEmIaaGIDf",
      "include_colab_link": true
    },
    "kernelspec": {
      "name": "python3",
      "display_name": "Python 3"
    },
    "language_info": {
      "name": "python"
    }
  },
  "cells": [
    {
      "cell_type": "markdown",
      "metadata": {
        "id": "view-in-github",
        "colab_type": "text"
      },
      "source": [
        "<a href=\"https://colab.research.google.com/github/peppermintbird/inverted-cern-school-of-computing-24/blob/main/brain_dump_notes.ipynb\" target=\"_parent\"><img src=\"https://colab.research.google.com/assets/colab-badge.svg\" alt=\"Open In Colab\"/></a>"
      ]
    },
    {
      "cell_type": "markdown",
      "source": [
        "### A brain-dump list of the inner workings of why machines learn."
      ],
      "metadata": {
        "id": "Jew4sLGLYoQF"
      }
    },
    {
      "cell_type": "markdown",
      "source": [
        "**Inverted CERN School of Computing - 24**\n",
        "\n",
        "\n",
        "[**Why do machines learn? Introduction to fundamentals and common misconceptions in ML - Pratik Jawahar**](https://indi.to/44P7p)"
      ],
      "metadata": {
        "id": "0h6uUEc_Ytsx"
      }
    },
    {
      "cell_type": "markdown",
      "source": [
        "#### Personal hunches\n"
      ],
      "metadata": {
        "id": "uAGg_br2VoYU"
      }
    },
    {
      "cell_type": "markdown",
      "source": [
        "**I think** that machines learn by\n",
        "- algorithms;\n",
        "- mathematical functions and patterns;\n",
        "- quality and quantity of data;\n",
        "- continuous training and iteration;\n",
        "- clear principles.\n",
        "\n",
        "**I don't think** that machines learn by\n",
        "- cognitive process;\n",
        "- data understanding (as humans do)\n",
        "\n",
        "---\n",
        "\n"
      ],
      "metadata": {
        "id": "48vb29qVV0so"
      }
    },
    {
      "cell_type": "markdown",
      "source": [
        "#### Real deal"
      ],
      "metadata": {
        "id": "Y4wfDw6YVrtD"
      }
    },
    {
      "cell_type": "markdown",
      "source": [
        "*Lecture notes*"
      ],
      "metadata": {
        "id": "Z9c1jjWQVvvv"
      }
    }
  ]
}